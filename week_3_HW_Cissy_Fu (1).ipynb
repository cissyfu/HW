{
  "nbformat": 4,
  "nbformat_minor": 0,
  "metadata": {
    "colab": {
      "name": "week 3_HW_Cissy Fu.ipynb",
      "version": "0.3.2",
      "views": {},
      "default_view": {},
      "provenance": []
    },
    "kernelspec": {
      "name": "python2",
      "display_name": "Python 2"
    }
  },
  "cells": [
    {
      "metadata": {
        "id": "WKYVcGTIx23U",
        "colab_type": "text"
      },
      "cell_type": "markdown",
      "source": [
        "1. How do you handle duplicate values in a dataset in Python?\n",
        "\n",
        "we can import Pandas and apply DataFrame.drop_duplicates() to remove duplicate values.\n"
      ]
    },
    {
      "metadata": {
        "id": "Zn_z6k6LGAOu",
        "colab_type": "text"
      },
      "cell_type": "markdown",
      "source": [
        "2. You are given two tables - friend_request and request_accepted. Friend_request contains requester_id, time and sent_to_id and request_accepted table contains time, acceptor_id and requestor_id. How will you determine the overall acceptance rate of requests? "
      ]
    },
    {
      "metadata": {
        "id": "egBIlImwGDhS",
        "colab_type": "code",
        "colab": {
          "autoexec": {
            "startup": false,
            "wait_interval": 0
          }
        }
      },
      "cell_type": "code",
      "source": [
        "# SQL\n",
        "\n",
        "select ra.time, sum(if(ra.accepter_id is null, 0,1))/count((fr.requester_id) as acceptance_rate\n",
        "from friend_request fr left join request_accepted ra on fr.sent_to_id = ra.acceptor_id and fr.requester_id = ra.requestor_id\n",
        "group by ra.time;"
      ],
      "execution_count": 0,
      "outputs": []
    },
    {
      "metadata": {
        "id": "Z-LOtmRtI0JO",
        "colab_type": "code",
        "colab": {
          "autoexec": {
            "startup": false,
            "wait_interval": 0
          }
        }
      },
      "cell_type": "code",
      "source": [
        "# python\n",
        "\n",
        "import pandas as pd\n",
        "friend_request = pd.DataFrame({'requester_id':['A123','B123','C453','A123'],\n",
        "                               'time':['2018-01-03','2018-01-03','2018-05-05','2018-02-02'],\n",
        "                               'sent_to_id':['B123','D234','A123','C453']},\n",
        "                               index=[0,1,2,3])\n",
        "\n",
        "request_accepted = pd.DataFrame({'time':['2018-01-10','2018-02-10'],\n",
        "                               'acceptor_id':['B123','C453'],\n",
        "                               'requestor_id':['A123','A123']},\n",
        "                               index=[0,1])\n",
        "\n",
        "df_join = pd.merge(friend_request, request_accepted,left_on =['requester_id','sent_to_id'], right_on = ['requestor_id','acceptor_id'], how = 'left')\n",
        "\n",
        "df_join\n",
        "\n",
        "summary = df_join.groupby(['time_x'])[['requester_id','acceptor_id']].count()\n",
        "\n",
        "summary['Acceptance_rate'] = summary['acceptor_id']/summary['requester_id']\n",
        "\n",
        "summary\n"
      ],
      "execution_count": 0,
      "outputs": []
    },
    {
      "metadata": {
        "id": "ZkF2F7o_JxNL",
        "colab_type": "text"
      },
      "cell_type": "markdown",
      "source": [
        "3. 'Issuer” of a credit card are companies like Visa, Mastercard, American Express. Now we know the following rules:\n",
        "\n",
        "CC number starts with: '4'\n",
        "CC len : 16\n",
        "Issuer: VISA\n",
        "\n",
        "CC number starts with: '34', '37'\n",
        "CC len : 15\n",
        "Issuer : AMEX\n",
        "\n",
        "CC number starts with: '36'\n",
        "CC len : 14\n",
        "Issuer : Diners Club\n",
        "\n",
        "Credit card number starts with\n",
        "'4026', '417500', '4405', '4508', '4844',\n",
        "'4913', '4917'\n",
        "CC len : 16\n",
        "Issuer : VISAELECTRON\n",
        "\n",
        "Now write Python scripts to identify the issuer of the following credit card numbers:\n",
        "\n",
        "'4175004175004172' \n",
        "'4917491749174917'\n",
        "'346416800707698'\n",
        "'376416800707698'\n",
        "'37641680070769832112'\n",
        "'36641680070769'\n",
        "'54545641680070769’ \n",
        "\n",
        "\n"
      ]
    },
    {
      "metadata": {
        "id": "fi-0ut2sKvQV",
        "colab_type": "code",
        "colab": {
          "autoexec": {
            "startup": false,
            "wait_interval": 0
          },
          "base_uri": "https://localhost:8080/",
          "height": 255
        },
        "outputId": "b7f6ba4b-d065-418d-ff9a-3d57d51ce4e9",
        "executionInfo": {
          "status": "ok",
          "timestamp": 1526507391802,
          "user_tz": 420,
          "elapsed": 366,
          "user": {
            "displayName": "Cissy Fu",
            "photoUrl": "https://lh3.googleusercontent.com/a/default-user=s128",
            "userId": "108521802366364978490"
          }
        }
      },
      "cell_type": "code",
      "source": [
        "n = len(credit_card_num)\n",
        "for i in range(n):\n",
        "  \n",
        "      if ((credit_card_num[i][0:2] == '34' or credit_card_num[i][0:2] == '37') and len(credit_card_num[i]) == 15):\n",
        "          print ('Credit Card Number: ' + credit_card_num[i])\n",
        "          print ('It is Amex.')\n",
        "      elif credit_card_num[i][0:2] == '37' and len(credit_card_num[i]) == 14:\n",
        "          print ('Credit Card Number: ' + credit_card_num[i])\n",
        "          print ('It is Diners Club.')\n",
        "      elif credit_card_num[i][0:1] == '4' and len(credit_card_num[i]) ==16:\n",
        "          if (credit_card_num[i][0:4] in ('4026','4405','4508','4844','4913','4917') or credit_card_num[i][0:6] == '417500'):\n",
        "               print ('Credit Card Number: ' + credit_card_num[i])\n",
        "               print ('It is VisaElectron.')\n",
        "          else:\n",
        "               print ('Credit Card Number: ' + credit_card_num[i])\n",
        "               print ('It is Vis.')\n",
        "      else:\n",
        "          print ('Credit Card Number: ' + credit_card_num[i])\n",
        "          print('This credit card is unavaiable')\n",
        "      i = i+1\n",
        "  "
      ],
      "execution_count": 38,
      "outputs": [
        {
          "output_type": "stream",
          "text": [
            "Credit Card Number: 4175004175004172\n",
            "It is VisaElectron.\n",
            "Credit Card Number: 4917491749174917\n",
            "It is VisaElectron.\n",
            "Credit Card Number: 346416800707698\n",
            "It is Amex.\n",
            "Credit Card Number: 376416800707698\n",
            "It is Amex.\n",
            "Credit Card Number: 37641680070769832112\n",
            " This credit card is unavaiable\n",
            "Credit Card Number: 36641680070769\n",
            " This credit card is unavaiable\n",
            "Credit Card Number: 54545641680070769\n",
            " This credit card is unavaiable\n"
          ],
          "name": "stdout"
        }
      ]
    }
  ]
}